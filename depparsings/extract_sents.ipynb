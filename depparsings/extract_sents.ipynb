{
 "cells": [
  {
   "cell_type": "code",
   "execution_count": 16,
   "metadata": {
    "collapsed": true
   },
   "outputs": [],
   "source": [
    "section = 'dev-set'\n",
    "with open('../../preprocess-conll05/conll05st-release/{}.gz.parse.biaffine-gold.combined.bio'.format(section)) as f:\n",
    "\tdata = f.readlines()\n",
    "\t# data.split('\\n')\n",
    "\t# data = [line.strip() for line in data]\n"
   ]
  },
  {
   "cell_type": "code",
   "execution_count": 17,
   "outputs": [],
   "source": [
    "sents = []\n",
    "container = []\n",
    "container_head = []\n",
    "sents_head = []\n",
    "for line in data:\n",
    "\tif line != '\\n':\n",
    "\t\tcontainer+= [line.split('\\t')[3]]\n",
    "\t\tcontainer_head += [line.split('\\t')[6]]\n",
    "\telse:\n",
    "\t\tsents += [container]\n",
    "\t\tsents_head += [container_head]\n",
    "\t\tcontainer = []\n",
    "\t\tcontainer_head = []"
   ],
   "metadata": {
    "collapsed": false,
    "pycharm": {
     "name": "#%%\n"
    }
   }
  },
  {
   "cell_type": "code",
   "execution_count": 18,
   "outputs": [],
   "source": [
    "sents = [' '.join(sent) for sent in sents]\n",
    "sents_head = [' '.join(head) for head in sents_head]"
   ],
   "metadata": {
    "collapsed": false,
    "pycharm": {
     "name": "#%%\n"
    }
   }
  },
  {
   "cell_type": "code",
   "execution_count": 19,
   "outputs": [],
   "source": [
    "# with open(\"conll05.dev.plain\", \"w\") as f:\n",
    "# \tfor sent in sents:\n",
    "# \t\tf.writelines(sent)\n",
    "# \t\tf.write('\\n')"
   ],
   "metadata": {
    "collapsed": false,
    "pycharm": {
     "name": "#%%\n"
    }
   }
  },
  {
   "cell_type": "code",
   "execution_count": 20,
   "outputs": [],
   "source": [
    "with open(\"conll05.dev.biaffine-gold.heads\", \"w\") as f:\n",
    "\tfor head in sents_head:\n",
    "\t\tf.writelines(head)\n",
    "\t\tf.write('\\n')\n",
    "\n"
   ],
   "metadata": {
    "collapsed": false,
    "pycharm": {
     "name": "#%%\n"
    }
   }
  },
  {
   "cell_type": "code",
   "execution_count": null,
   "outputs": [],
   "source": [],
   "metadata": {
    "collapsed": false,
    "pycharm": {
     "name": "#%%\n"
    }
   }
  }
 ],
 "metadata": {
  "kernelspec": {
   "display_name": "Python 3",
   "language": "python",
   "name": "python3"
  },
  "language_info": {
   "codemirror_mode": {
    "name": "ipython",
    "version": 2
   },
   "file_extension": ".py",
   "mimetype": "text/x-python",
   "name": "python",
   "nbconvert_exporter": "python",
   "pygments_lexer": "ipython2",
   "version": "2.7.6"
  }
 },
 "nbformat": 4,
 "nbformat_minor": 0
}